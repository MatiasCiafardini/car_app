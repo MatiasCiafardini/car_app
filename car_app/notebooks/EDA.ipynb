{
 "cells": [
  {
   "cell_type": "code",
   "execution_count": null,
   "id": "4e35b3c0",
   "metadata": {},
   "outputs": [],
   "source": [
    "import pandas as pd\n",
    "import plotly.graph_objects as go\n",
    "\n",
    "# Leer el dataset (ruta relativa desde notebooks/)\n",
    "car_data = pd.read_csv('../vehicles_us.csv')\n",
    "car_data.head()\n"
   ]
  },
  {
   "cell_type": "code",
   "execution_count": null,
   "id": "e57426eb",
   "metadata": {},
   "outputs": [],
   "source": [
    "fig = go.Figure(data=[go.Histogram(x=car_data['odometer'])])\n",
    "fig.update_layout(title_text='Distribución del Odómetro')\n",
    "fig.show()\n"
   ]
  },
  {
   "cell_type": "code",
   "execution_count": null,
   "id": "50f378d8",
   "metadata": {},
   "outputs": [],
   "source": [
    "fig = go.Figure(\n",
    "    data=[go.Scatter(\n",
    "        x=car_data['odometer'],\n",
    "        y=car_data['price'],\n",
    "        mode='markers',\n",
    "        opacity=0.6\n",
    "    )]\n",
    ")\n",
    "fig.update_layout(\n",
    "    title_text='Relación entre Odómetro y Precio',\n",
    "    xaxis_title='Odómetro',\n",
    "    yaxis_title='Precio'\n",
    ")\n",
    "fig.show()\n"
   ]
  }
 ],
 "metadata": {
  "kernelspec": {
   "display_name": ".venv (3.13.6)",
   "language": "python",
   "name": "python3"
  },
  "language_info": {
   "name": "python",
   "version": "3.13.6"
  }
 },
 "nbformat": 4,
 "nbformat_minor": 5
}
